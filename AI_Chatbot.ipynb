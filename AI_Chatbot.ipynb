{
 "cells": [
  {
   "cell_type": "code",
   "execution_count": 136,
   "id": "3b93d360",
   "metadata": {},
   "outputs": [],
   "source": [
    "import openai\n",
    "import logging\n",
    "import torch\n",
    "import time\n",
    "from datetime import datetime\n",
    "# from espnet2.bin.tts_inference import Text2Speech\n",
    "from IPython.display import display, Audio"
   ]
  },
  {
   "cell_type": "code",
   "execution_count": 137,
   "id": "b130c304",
   "metadata": {},
   "outputs": [],
   "source": [
    "# Model Path\n",
    "# train_config_file = 'D:/Project3180/kan-bayashi_ljspeech_vits/exp/tts_train_vits_raw_phn_tacotron_g2p_en_no_space/config.yaml'\n",
    "# model_file = 'D:/Project3180/kan-bayashi_ljspeech_vits/exp/tts_train_vits_raw_phn_tacotron_g2p_en_no_space/train.total_count.ave_10best.pth'"
   ]
  },
  {
   "cell_type": "code",
   "execution_count": 138,
   "id": "5a372102",
   "metadata": {},
   "outputs": [],
   "source": [
    "# load_tts_model\n",
    "# model = Text2Speech(train_config_file,model_file)"
   ]
  },
  {
   "attachments": {},
   "cell_type": "markdown",
   "id": "908ec0ca",
   "metadata": {},
   "source": [
    "Two scores are defined here: one is the emotion score, and the other is the extreme behavior score. For the former, negative emotions decrease the score, while positive emotions increase it, with each adjustment typically ranging between 0 and 1. For the latter, the score increases by 1 each time an extreme behavior is detected."
   ]
  },
  {
   "cell_type": "code",
   "execution_count": 139,
   "id": "f5ec013d",
   "metadata": {},
   "outputs": [],
   "source": [
    "# Set up OpenAI API key\n",
    "api_key = open(\"API_Key.txt\",\"r\").read()\n",
    "openai.api_key = api_key\n",
    "#定义两个分数\n",
    "emotion_score = 0\n",
    "extreme_behavior_score = 0"
   ]
  },
  {
   "attachments": {},
   "cell_type": "markdown",
   "id": "ee2587c3",
   "metadata": {},
   "source": [
    "the skin suit code"
   ]
  },
  {
   "cell_type": "code",
   "execution_count": 140,
   "id": "732bacf2",
   "metadata": {},
   "outputs": [],
   "source": [
    "def tts_synthesis(x):\n",
    "    global model\n",
    "    # synthesis\n",
    "    start_time = time.time()\n",
    "    print('Synthesis...')\n",
    "    with torch.no_grad():\n",
    "#         start = time.time()\n",
    "        wav = model(x)[\"wav\"]\n",
    "#     rtf = (time.time() - start) / (len(wav) / text2speech.fs)\n",
    "#     print(f\"RTF = {rtf:5f}\")\n",
    "    # let us listen to generated samples\n",
    "    print('Inference Completed. Time Used: {}'.format(time.time() - start_time))\n",
    "    audio = Audio(wav.view(-1).cpu().numpy(), rate=model.fs *1.07, autoplay = True)\n",
    "    print('Audio Generated. Time Used: {}'.format(time.time() - start_time))\n",
    "    display(audio)\n",
    "    # save audio\n",
    "    with open('./audios/{}.wav'.format('_'.join(x.split(' ')[:5])), 'wb') as f:\n",
    "        print('Saving Audio...')\n",
    "        f.write(audio.data)\n",
    "        print(\"Audio Saved.\")"
   ]
  },
  {
   "cell_type": "code",
   "execution_count": 141,
   "id": "f9903f3c",
   "metadata": {},
   "outputs": [],
   "source": [
    "def send_message(message_log,p_max_tokens = 300):\n",
    "    # Use OpenAI's ChatCompletion API to get the chatbot's response\n",
    "    # print('Sending msg to ChatGPT and waiting for the response...')\n",
    "    start_time = time.time()\n",
    "    response = openai.ChatCompletion.create(\n",
    "        model=\"gpt-3.5-turbo\",  # The name of the OpenAI chatbot model to use\n",
    "        messages=message_log,   # The conversation history up to this point, as a list of dictionaries\n",
    "        max_tokens=p_max_tokens,        # The maximum number of tokens (words or subwords) in the generated response\n",
    "        stop = None,              # The stopping sequence for the generated response, if any (not used here)\n",
    "#         temperature=0.7,        # The \"creativity\" of the generated response (higher temperature = more creative)\n",
    "    )\n",
    "    # print('Response Received. Time Used: {}'.format(time.time() - start_time))\n",
    "    return response['choices'][0]['message']['content']"
   ]
  },
  {
   "cell_type": "code",
   "execution_count": 142,
   "id": "3e1eb182",
   "metadata": {},
   "outputs": [],
   "source": [
    "def dump_dialogue(p_message_log):\n",
    "    print(\"Saving Dialogue...\")\n",
    "    # dd/mm/YY H:M\n",
    "    dt_string = datetime.now().strftime(\"%d_%m_%Y-%H_%M\")\n",
    "    with open('./dialogues/{}.txt'.format(dt_string), 'w') as filehandle:\n",
    "        for x in p_message_log:\n",
    "            filehandle.write(str(x) + \"\\n\")\n",
    "    print(\"Dialogue Saved.\")"
   ]
  },
  {
   "attachments": {},
   "cell_type": "markdown",
   "id": "692d48e8",
   "metadata": {},
   "source": [
    "using gpt-2"
   ]
  },
  {
   "cell_type": "code",
   "execution_count": 143,
   "id": "1a5f1b67",
   "metadata": {},
   "outputs": [
    {
     "data": {
      "text/plain": [
       "GPT2Model(\n",
       "  (wte): Embedding(50257, 768)\n",
       "  (wpe): Embedding(1024, 768)\n",
       "  (drop): Dropout(p=0.1, inplace=False)\n",
       "  (h): ModuleList(\n",
       "    (0-11): 12 x GPT2Block(\n",
       "      (ln_1): LayerNorm((768,), eps=1e-05, elementwise_affine=True)\n",
       "      (attn): GPT2Attention(\n",
       "        (c_attn): Conv1D()\n",
       "        (c_proj): Conv1D()\n",
       "        (attn_dropout): Dropout(p=0.1, inplace=False)\n",
       "        (resid_dropout): Dropout(p=0.1, inplace=False)\n",
       "      )\n",
       "      (ln_2): LayerNorm((768,), eps=1e-05, elementwise_affine=True)\n",
       "      (mlp): GPT2MLP(\n",
       "        (c_fc): Conv1D()\n",
       "        (c_proj): Conv1D()\n",
       "        (act): NewGELUActivation()\n",
       "        (dropout): Dropout(p=0.1, inplace=False)\n",
       "      )\n",
       "    )\n",
       "  )\n",
       "  (ln_f): LayerNorm((768,), eps=1e-05, elementwise_affine=True)\n",
       ")"
      ]
     },
     "execution_count": 143,
     "metadata": {},
     "output_type": "execute_result"
    }
   ],
   "source": [
    "import torch\n",
    "from transformers import GPT2Tokenizer, GPT2Model\n",
    "torch.manual_seed(0)\n",
    "\n",
    "model_name = \"gpt2\" \n",
    "model = GPT2Model.from_pretrained(model_name)\n",
    "tokenizer = GPT2Tokenizer.from_pretrained(model_name)\n",
    "\n",
    "model.eval()"
   ]
  },
  {
   "attachments": {},
   "cell_type": "markdown",
   "id": "a4e40cd2",
   "metadata": {},
   "source": [
    "This is the code to derive the positive and negative sentiment scores of an input. The official documentation states that the positive (or negative) sentiment score of an input should range from 0 to 1, but the actual result is between 0 and -1. There's an issue where intense emotions cause both scores to rise simultaneously, influencing each other. Therefore, the next step is to evaluate the sentiment individually. If the sentiment is judged as positive, add the positive sentiment score minus -1 (since it's between -1 and 0, the closer to 0, the more intense the emotion). For negative sentiment, subtract the negative sentiment score minus -1.  \n",
    "\n",
    "Note: The return value is a dictionary."
   ]
  },
  {
   "cell_type": "code",
   "execution_count": 144,
   "id": "f68bd6fc",
   "metadata": {},
   "outputs": [],
   "source": [
    "def predict_sentiment(text):\n",
    "    tokens = tokenizer.encode(text, add_special_tokens=True)\n",
    "    input_ids = torch.tensor(tokens).unsqueeze(0)\n",
    "\n",
    "    with torch.no_grad():\n",
    "        outputs = model(input_ids)\n",
    "        last_hidden_states = outputs[0]\n",
    "\n",
    "    sentiment_scores = last_hidden_states.mean(dim=1).squeeze()\n",
    "    positive_score = sentiment_scores[1].item()  \n",
    "    negative_score = sentiment_scores[0].item()\n",
    "    return {\"positive\": positive_score, \"negative\": negative_score}\n"
   ]
  },
  {
   "attachments": {},
   "cell_type": "markdown",
   "id": "2d13f287",
   "metadata": {},
   "source": [
    "The code for judging emotions. The nltk library is imported. The negative_list is used to detect negative words. A double negative means no negation, while a single negative means negation. If there are negative words, it returns -1; if there are positive words, it returns 0; if neither is present, it returns 0. For its usage, refer to the above context"
   ]
  },
  {
   "cell_type": "code",
   "execution_count": 145,
   "id": "61e49bae",
   "metadata": {},
   "outputs": [
    {
     "name": "stderr",
     "output_type": "stream",
     "text": [
      "[nltk_data] Downloading package opinion_lexicon to\n",
      "[nltk_data]     C:\\Users\\119282\\AppData\\Roaming\\nltk_data...\n",
      "[nltk_data]   Package opinion_lexicon is already up-to-date!\n"
     ]
    }
   ],
   "source": [
    "import nltk\n",
    "from nltk.corpus import opinion_lexicon\n",
    "\n",
    "nltk.download('opinion_lexicon')\n",
    "positive_words = set(opinion_lexicon.positive())\n",
    "negative_words = set(opinion_lexicon.negative())\n",
    "negation_list = [\"not\", \"no\", \"never\", \"none\", \"nobody\", \"nothing\", \"neither\", \"nowhere\", \"hardly\", \"barely\", \"rarely\"]\n",
    "\n",
    "\n",
    "def has_motion_word(sentence):\n",
    "    words = nltk.word_tokenize(sentence.lower())\n",
    "    word_pos = nltk.pos_tag(words)\n",
    "    negation_count = 0\n",
    "    for i in range(len(word_pos)):\n",
    "        # detect negation\n",
    "        if word_pos[i][0] in negation_list:\n",
    "                negation_count += 1\n",
    "    for word in words:\n",
    "        if word in negative_words:\n",
    "            return (-1)**(negation_count%2 + 1)\n",
    "        elif word in positive_words:\n",
    "            return (-1)**(negation_count%2 + 2)\n",
    "    return 0\n"
   ]
  },
  {
   "attachments": {},
   "cell_type": "markdown",
   "id": "709985b6",
   "metadata": {},
   "source": [
    "Code for detecting suicide and self-harm. Customize the suicide_list. The function returns 1 if extreme behavior is detected, otherwise 0. Negations are also considered."
   ]
  },
  {
   "cell_type": "code",
   "execution_count": 146,
   "id": "d8b240a9",
   "metadata": {},
   "outputs": [],
   "source": [
    "suicide_list = [\"suicide\",\"murder\",\"self-destruction\",\"self-murder\",\"martyrdom\",\"self-slaughter\",\"assassination\",\"homicide\",\"hari-kari\",\"killing\",\"slaying\",\"manslaughter\",\n",
    "\"euthanasia\",\"rubout\",\"chance-medley\",\"massacre\",\"kill\",\"slaughter\",\"slay\",\"scrag\",\"croak\",\"annihilate\",\"assassinate\",\"decimate\",\"smite\",\"martyr\",\"euthanize\",\"euthanatize\"]\n",
    "\n",
    "def has_suicide_word(sentence):\n",
    "    words = nltk.word_tokenize(sentence.lower())\n",
    "    word_pos = nltk.pos_tag(words)\n",
    "\n",
    "    negation_count = 0\n",
    "    for i in range(len(word_pos)):\n",
    "        # detect negation\n",
    "        if word_pos[i][0] in negation_list:\n",
    "            negation_count += 1\n",
    "    for word in words:\n",
    "        if word in suicide_list:\n",
    "            return (negation_count%2 + 1)%2\n",
    "    return 0"
   ]
  },
  {
   "attachments": {},
   "cell_type": "markdown",
   "id": "cf15858e",
   "metadata": {},
   "source": [
    "The simple therapeutic function. The logic is to pause sending to GPT-3, then pop up a simple MBSR therapy. Print line by line, and print the next line after the user presses enter. After it ends, ask the user if they feel better. If they feel better, divide the two scores (emotion and extremity) by two; otherwise, leave them unchanged."
   ]
  },
  {
   "cell_type": "code",
   "execution_count": 147,
   "id": "313c288a",
   "metadata": {},
   "outputs": [
    {
     "name": "stderr",
     "output_type": "stream",
     "text": [
      "[nltk_data] Downloading package vader_lexicon to\n",
      "[nltk_data]     C:\\Users\\119282\\AppData\\Roaming\\nltk_data...\n",
      "[nltk_data]   Package vader_lexicon is already up-to-date!\n"
     ]
    }
   ],
   "source": [
    "from nltk.sentiment import SentimentIntensityAnalyzer\n",
    "nltk.download('vader_lexicon')\n",
    "sid = SentimentIntensityAnalyzer()\n",
    "def cure_function():\n",
    "    global emotion_score\n",
    "    global extreme_behavior_score\n",
    "    mbsr_1 = [\"Lie with your back on the floor or a bed and close your eyes.\",\n",
    "    \"Move your awareness through your body, focusing on one area at a time.\", \n",
    "    \"Stop whenever you find an area that is unusually tight or sore and focus your breath on this area until it relaxes.\",\n",
    "    \"You can use a calm and healing visualization at this point as well (e.g., a ball of white light melting into the sore spot)\"]\n",
    "    print(\"Well, maybe you need the following MBSR exercise:\")\n",
    "    for i in mbsr_1:\n",
    "        print(i)\n",
    "        input(\"Press enter to continue:\")\n",
    "    print(\"Do you feel better now?\")\n",
    "    user_input = input()\n",
    "\n",
    "    if sid.polarity_scores(user_input)['compound'] > 0:\n",
    "        emotion_score /= 2\n",
    "        extreme_behavior_score /= 2\n",
    "    print(\"You:\", user_input)\n",
    "    print(\"Emotion_score:\", emotion_score, \"  extreme_behavior_score: \", extreme_behavior_score)\n",
    "    print(\"Alright. Do you have any other thorghts you'd like to share?\")\n",
    "    return"
   ]
  },
  {
   "attachments": {},
   "cell_type": "markdown",
   "id": "1a3dbe6a",
   "metadata": {},
   "source": [
    "main function"
   ]
  },
  {
   "cell_type": "code",
   "execution_count": 148,
   "id": "efe25b24",
   "metadata": {},
   "outputs": [],
   "source": [
    "\n",
    "def main():\n",
    "    global emotion_score#衡量情绪的标准。正加负减\n",
    "    global extreme_behavior_score#极端行为分，判断到一个加一分\n",
    "    cure_flag = False#判断有没有治疗过，默认为false\n",
    "    # Initialize the conversation history with a message from the chatbot\n",
    "    message_log = [\n",
    "        {'role': 'system', 'content': 'You are a helpful and caring AI therapist, who gives suggestion and mental support with concise answers.'},\n",
    "    ]\n",
    "\n",
    "    # Start a loop that runs until the user types \"quit\"\n",
    "    while True:\n",
    "            print(\"Emotion_score:\", emotion_score, \"  extreme_behavior_score:\", extreme_behavior_score)#在每次输入前打出情绪分（因为这个东西要展示出来的，不是真的给用户用的）\n",
    "            if emotion_score < -2 or extreme_behavior_score >= 1:#达到治疗的值。\n",
    "                if cure_flag == False:#如果没有治疗过\n",
    "                    cure_function()\n",
    "                    cure_flag = True#说明治疗过了\n",
    "            if emotion_score < -4 or extreme_behavior_score >= 3:#每个句子正面和负面值在0到1之间。暂时设定为阙值为4。\n",
    "                if emotion_score <-4:#这个if和else是将emotion_score从0到-4映射到0到100.具体的，如果在0到-4之间就对应着0到80. 如果大于-4（设定的极限是-5.5），则对应的是80到100.\n",
    "                    emotion_score = emotion_score*80/(-4)\n",
    "                else:\n",
    "                    emotion_score = (-emotion_score-4)*20/1.5 + 80\n",
    "                extreme_behavior_score = (extreme_behavior_score/3)*100#极端分的映射。0到3对应到0到100\n",
    "                print(\"\\nYou are not well. Your depression score is:%f and your extreme behavior score is:%f. \"%(emotion_score, extreme_behavior_score))#打印两个分\n",
    "                print(\"Maybe you need to take a depression test: https://www.mind-diagnostics.org/depression-test\")#心里测评网站。在输出这个链接的时候整个程序已经结束了。\n",
    "                break\n",
    "            print()\n",
    "\n",
    "            # If this is not the first request, get the user's input and add it to the conversation history\n",
    "            user_input = input(\"You: \")\n",
    "\n",
    "            # If the user types \"quit\", end the loop and print a goodbye message\n",
    "            if user_input.lower() == \"quit\":#如果退出也要打印两个分。换算代码是一样的\n",
    "                if emotion_score <-4:\n",
    "                    emotion_score = emotion_score*80/(-4)\n",
    "                else:\n",
    "                    emotion_score = (-emotion_score-4)*20/1.5 + 80\n",
    "                extreme_behavior_score = (extreme_behavior_score/3)*100\n",
    "                print(\"Your depression score is:%f and your extreme behavior score is:%f.\"%(emotion_score, extreme_behavior_score))\n",
    "                print(\"Goodbye!\")\n",
    "                # dump_dialogue(message_log)\n",
    "                break\n",
    "\n",
    "            message_log.append({\"role\": \"user\", \"content\": user_input})\n",
    "            \n",
    "            try:\n",
    "                # Send the conversation history to the chatbot and get its response\n",
    "                response = send_message(message_log)\n",
    "\n",
    "                #emotion_score algorithm\n",
    "                return_dict = predict_sentiment(user_input)#返回值是一个字典\n",
    "                return_list = [return_dict[\"negative\"], -1, return_dict[\"positive\"]]#将字典转化为list\n",
    "\n",
    "                tmp_emotion = has_motion_word(user_input)#如果有情绪词就计分。这里如果没有情绪词返回0，下面就是0.如果负面情绪这里就是-1，下面就是减。如果正面情绪这里就是1，下面就是加。\n",
    "                emotion_score += tmp_emotion*(return_list[tmp_emotion+1]+1)#参考上一句话的输出。return_list[tmp_emotion+1]是对应的情绪分。+1是-（-1），参考上面def predict_sentiment的注释。\n",
    "                \n",
    "                #extreme_behavior_score algorithm\n",
    "                if has_suicide_word(user_input) == 1:#检测到极端行为词就加一\n",
    "                    extreme_behavior_score += 1  \n",
    "            except:#处理错误。一般不会发生\n",
    "                logging.exception('..')\n",
    "                print(\"FATAL: Exiting.\")\n",
    "                # dump_dialogue(message_log)\n",
    "                break\n",
    "            # Add the chatbot's response to the conversation history and print it to the console\n",
    "            message_log.append({\"role\": \"assistant\", \"content\": response})\n",
    "            print(f\"AI assistant: {response}\")\n",
    "            # tts_synthesis(response)"
   ]
  },
  {
   "cell_type": "code",
   "execution_count": 149,
   "id": "13da23b0",
   "metadata": {
    "scrolled": true
   },
   "outputs": [],
   "source": [
    "# tts_synthesis(\"I am an AI therapist and I am happy to help you. You are always welcome to share whatever you feel comfortable with. Sometimes it can be helpful to talk to someone who is neutral and non-judgmental about what's on your mind. I am here to offer support, encouragement, and guidance as you navigate through this difficult time.\")"
   ]
  },
  {
   "cell_type": "code",
   "execution_count": 150,
   "id": "d1134ecc",
   "metadata": {
    "scrolled": false
   },
   "outputs": [
    {
     "name": "stdout",
     "output_type": "stream",
     "text": [
      "Emotion_score: 0   extreme_behavior_score: 0\n",
      "\n",
      "You:  i am not feeling well these days\n",
      "AI assistant: I'm sorry to hear that. Would you like to share what's been troubling you? Sometimes it helps to talk about what's going on.\n",
      "Emotion_score: -1.3203484117984772   extreme_behavior_score: 0\n",
      "\n",
      "Your depression score is:44.271312 and your extreme behavior score is:0.000000.\n",
      "Goodbye!\n"
     ]
    }
   ],
   "source": [
    "main()"
   ]
  }
 ],
 "metadata": {
  "kernelspec": {
   "display_name": "Python 3 (ipykernel)",
   "language": "python",
   "name": "python3"
  },
  "language_info": {
   "codemirror_mode": {
    "name": "ipython",
    "version": 3
   },
   "file_extension": ".py",
   "mimetype": "text/x-python",
   "name": "python",
   "nbconvert_exporter": "python",
   "pygments_lexer": "ipython3",
   "version": "3.11.0"
  }
 },
 "nbformat": 4,
 "nbformat_minor": 5
}
